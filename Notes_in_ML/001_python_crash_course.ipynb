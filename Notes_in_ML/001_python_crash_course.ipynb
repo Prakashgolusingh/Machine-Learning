{
  "nbformat": 4,
  "nbformat_minor": 0,
  "metadata": {
    "colab": {
      "provenance": []
    },
    "kernelspec": {
      "name": "python3",
      "display_name": "Python 3"
    },
    "language_info": {
      "name": "python"
    }
  },
  "cells": [
    {
      "cell_type": "code",
      "source": [
        "# datatypes in python\n",
        "'''\n",
        "Numeric\n",
        "      Integer\n",
        "      Float\n",
        "      Imagnary number\n",
        "Sequence Type\n",
        "      String\n",
        "      List\n",
        "      Touple\n",
        "Boolean\n",
        "Set\n",
        "Dictionary'''"
      ],
      "metadata": {
        "colab": {
          "base_uri": "https://localhost:8080/",
          "height": 53
        },
        "id": "HSYwVuqlBC20",
        "outputId": "778c7ac5-de02-402b-dacd-5374d13bcbd5"
      },
      "execution_count": null,
      "outputs": [
        {
          "output_type": "execute_result",
          "data": {
            "text/plain": [
              "'\\nNumeric\\n      Integer\\n      Float\\n      Imagnary number\\nSequence Type\\n      String\\n      List\\n      Touple\\nBoolean\\nSet\\nDictionary'"
            ],
            "application/vnd.google.colaboratory.intrinsic+json": {
              "type": "string"
            }
          },
          "metadata": {},
          "execution_count": 13
        }
      ]
    },
    {
      "cell_type": "code",
      "execution_count": null,
      "metadata": {
        "colab": {
          "base_uri": "https://localhost:8080/"
        },
        "id": "vG5R-xZu9jCv",
        "outputId": "82bf1019-7f6e-4380-dcb1-e3b787bf996a"
      },
      "outputs": [
        {
          "output_type": "execute_result",
          "data": {
            "text/plain": [
              "int"
            ]
          },
          "metadata": {},
          "execution_count": 1
        }
      ],
      "source": [
        "type(1) #type fn return the datatype of parameter"
      ]
    },
    {
      "cell_type": "code",
      "source": [
        "print(type(1.0))"
      ],
      "metadata": {
        "colab": {
          "base_uri": "https://localhost:8080/"
        },
        "id": "8fMHcpNE96UU",
        "outputId": "5ea2506b-49d7-45d7-d933-4b02243a76eb"
      },
      "execution_count": null,
      "outputs": [
        {
          "output_type": "stream",
          "name": "stdout",
          "text": [
            "<class 'float'>\n"
          ]
        }
      ]
    },
    {
      "cell_type": "code",
      "source": [
        "print(type(\"1.0\"))"
      ],
      "metadata": {
        "colab": {
          "base_uri": "https://localhost:8080/"
        },
        "id": "93BvOMUz99_S",
        "outputId": "1361419a-d8fc-4fce-af5e-63c192c443fa"
      },
      "execution_count": null,
      "outputs": [
        {
          "output_type": "stream",
          "name": "stdout",
          "text": [
            "<class 'str'>\n"
          ]
        }
      ]
    },
    {
      "cell_type": "code",
      "source": [
        "10/2   #this return float in float value"
      ],
      "metadata": {
        "colab": {
          "base_uri": "https://localhost:8080/"
        },
        "id": "2mWjJiRdtH7m",
        "outputId": "2537ffd8-d6e6-488d-c1f9-c5e3cd06d949"
      },
      "execution_count": null,
      "outputs": [
        {
          "output_type": "execute_result",
          "data": {
            "text/plain": [
              "5.0"
            ]
          },
          "metadata": {},
          "execution_count": 9
        }
      ]
    },
    {
      "cell_type": "code",
      "source": [
        "2**3    #return 3rd power of 2 "
      ],
      "metadata": {
        "colab": {
          "base_uri": "https://localhost:8080/"
        },
        "id": "zqX089_Otcee",
        "outputId": "4913cd53-b0b9-4855-9374-45f17cfc41f9"
      },
      "execution_count": null,
      "outputs": [
        {
          "output_type": "execute_result",
          "data": {
            "text/plain": [
              "8"
            ]
          },
          "metadata": {},
          "execution_count": 10
        }
      ]
    },
    {
      "cell_type": "code",
      "source": [
        "4%2   #return remainder after 4 divided by 2"
      ],
      "metadata": {
        "colab": {
          "base_uri": "https://localhost:8080/"
        },
        "id": "KwbjDayBt1dG",
        "outputId": "caac3755-17ec-4bfd-d9f2-5815bed35609"
      },
      "execution_count": null,
      "outputs": [
        {
          "output_type": "execute_result",
          "data": {
            "text/plain": [
              "0"
            ]
          },
          "metadata": {},
          "execution_count": 11
        }
      ]
    },
    {
      "cell_type": "code",
      "source": [
        "x=1   #initialize a variable\n",
        "x_y=3\n",
        "x+x_y"
      ],
      "metadata": {
        "colab": {
          "base_uri": "https://localhost:8080/"
        },
        "id": "J8U6qFFAuALB",
        "outputId": "e79009a9-dd11-4fe1-ea4f-2acdfa0bf8e8"
      },
      "execution_count": null,
      "outputs": [
        {
          "output_type": "execute_result",
          "data": {
            "text/plain": [
              "4"
            ]
          },
          "metadata": {},
          "execution_count": 12
        }
      ]
    },
    {
      "cell_type": "code",
      "source": [
        "\"i don't like that\"   #in double quote we can usse single one."
      ],
      "metadata": {
        "colab": {
          "base_uri": "https://localhost:8080/",
          "height": 36
        },
        "id": "54ldryQFuSDZ",
        "outputId": "ca12622f-02fa-4eb5-ceb0-2bd99618a0ee"
      },
      "execution_count": null,
      "outputs": [
        {
          "output_type": "execute_result",
          "data": {
            "text/plain": [
              "\"i don't like that\""
            ],
            "application/vnd.google.colaboratory.intrinsic+json": {
              "type": "string"
            }
          },
          "metadata": {},
          "execution_count": 13
        }
      ]
    },
    {
      "cell_type": "code",
      "source": [
        "'''i don't like that'''"
      ],
      "metadata": {
        "id": "ofTWSoGzudQf",
        "colab": {
          "base_uri": "https://localhost:8080/",
          "height": 36
        },
        "outputId": "5e350f00-f3dd-4721-c52d-572ffdf9a19a"
      },
      "execution_count": null,
      "outputs": [
        {
          "output_type": "execute_result",
          "data": {
            "text/plain": [
              "'i don\"t like that'"
            ],
            "application/vnd.google.colaboratory.intrinsic+json": {
              "type": "string"
            }
          },
          "metadata": {},
          "execution_count": 3
        }
      ]
    },
    {
      "cell_type": "code",
      "source": [
        "'''i don\"t like that'''"
      ],
      "metadata": {
        "colab": {
          "base_uri": "https://localhost:8080/",
          "height": 36
        },
        "id": "bNmUBWhfb_x9",
        "outputId": "7a582a45-9850-40fe-d854-c3f2b149b08e"
      },
      "execution_count": null,
      "outputs": [
        {
          "output_type": "execute_result",
          "data": {
            "text/plain": [
              "'i don\"t like that'"
            ],
            "application/vnd.google.colaboratory.intrinsic+json": {
              "type": "string"
            }
          },
          "metadata": {},
          "execution_count": 4
        }
      ]
    },
    {
      "cell_type": "code",
      "source": [
        "print(\"My name is {}\".format(\"Bose\"))  #use of .format() fn.\n",
        "print(\"My name is\".format('Bose'))\n",
        "print(\"My name is {}, my no is {}\".format('Bose',10)) # here order in format matter\n",
        "print(\"My name is {x}, my no is {y}\".format(y='10',x='Bose')) #here order don't matter "
      ],
      "metadata": {
        "colab": {
          "base_uri": "https://localhost:8080/"
        },
        "id": "OWCSGM3UcR4J",
        "outputId": "fbfb8367-79ea-4549-d103-898f6139484b"
      },
      "execution_count": null,
      "outputs": [
        {
          "output_type": "stream",
          "name": "stdout",
          "text": [
            "My name is Bose\n",
            "My name is\n",
            "My name is Bose, my no is 10\n",
            "My name is Bose, my no is 10\n"
          ]
        }
      ]
    },
    {
      "cell_type": "code",
      "source": [
        "[1,2,3]   # List of integer"
      ],
      "metadata": {
        "colab": {
          "base_uri": "https://localhost:8080/"
        },
        "id": "QqMpGLHQ8wwI",
        "outputId": "30da21a6-603d-4de4-ff66-1cd697f8ddde"
      },
      "execution_count": null,
      "outputs": [
        {
          "output_type": "execute_result",
          "data": {
            "text/plain": [
              "[1, 2, 3]"
            ]
          },
          "metadata": {},
          "execution_count": 2
        }
      ]
    },
    {
      "cell_type": "code",
      "source": [
        "['a','b','c'] # list of character or string"
      ],
      "metadata": {
        "colab": {
          "base_uri": "https://localhost:8080/"
        },
        "id": "torJHDYt9S3V",
        "outputId": "b40a631e-c5b5-47c5-9fb3-cbd407e5f7e3"
      },
      "execution_count": null,
      "outputs": [
        {
          "output_type": "execute_result",
          "data": {
            "text/plain": [
              "['a', 'b', 'c']"
            ]
          },
          "metadata": {},
          "execution_count": 3
        }
      ]
    },
    {
      "cell_type": "code",
      "source": [
        "[1,'a',2,'b'] # List of missed datatype"
      ],
      "metadata": {
        "colab": {
          "base_uri": "https://localhost:8080/"
        },
        "id": "Io2aG43E9aFz",
        "outputId": "9dd38b81-aeb1-4682-f1c3-2d9b6e67e46a"
      },
      "execution_count": null,
      "outputs": [
        {
          "output_type": "execute_result",
          "data": {
            "text/plain": [
              "[1, 'a', 2, 'b']"
            ]
          },
          "metadata": {},
          "execution_count": 4
        }
      ]
    },
    {
      "cell_type": "code",
      "source": [
        "mylist = ['a','b','c']  #list is like array\n",
        "# index   0    1   2\n",
        "# index  -3   -2  -1\n",
        "print(mylist,type(mylist),type(mylist[0]))\n",
        "print(mylist[0],mylist[-3])\n",
        "mylist[0]=\"praksh\";\n",
        "print(mylist[0],mylist[-3])\n",
        "mylist.append(345)  #this will append 345 in ind of list.\n",
        "print(mylist)\n",
        "mylist.insert(2,[1,2,3,7])  #insert at any position of list.\n",
        "print(mylist,mylist[2][-1]) #this will take the elemt of matrix.\n"
      ],
      "metadata": {
        "colab": {
          "base_uri": "https://localhost:8080/"
        },
        "id": "D5v8a4rx9p0N",
        "outputId": "5b35e686-3174-4aff-82f8-1577697fb3b0"
      },
      "execution_count": null,
      "outputs": [
        {
          "output_type": "stream",
          "name": "stdout",
          "text": [
            "['a', 'b', 'c'] <class 'list'> <class 'str'>\n",
            "a a\n",
            "praksh praksh\n",
            "['praksh', 'b', 'c', 345]\n",
            "['praksh', 'b', [1, 2, 3, 7], 'c', 345] 7\n"
          ]
        }
      ]
    },
    {
      "cell_type": "code",
      "source": [
        "d={'key1':'value1','key2':'value2' }    #dictionary\n",
        "print(d['key2'])\n",
        "print(d)  #order could be arbitrary\n",
        "d['key2']='prakash' # update\n",
        "x=d.keys()  #return all keys of dic.\n",
        "print(x)  #print all keys name.\n",
        "y=d.values()  #return all values\n",
        "print(y)  #print all values\n",
        "print(d.items())  # return all items"
      ],
      "metadata": {
        "colab": {
          "base_uri": "https://localhost:8080/"
        },
        "id": "uctj8SyyYkIR",
        "outputId": "0d80ddc8-32f6-45be-92dc-aa131c0fb76e"
      },
      "execution_count": null,
      "outputs": [
        {
          "output_type": "stream",
          "name": "stdout",
          "text": [
            "value2\n",
            "{'key1': 'value1', 'key2': 'value2'}\n",
            "dict_keys(['key1', 'key2'])\n",
            "dict_values(['value1', 'prakash'])\n",
            "dict_items([('key1', 'value1'), ('key2', 'prakash')])\n"
          ]
        }
      ]
    },
    {
      "cell_type": "code",
      "source": [
        "#tuple\n",
        "t= (1,2,3) #one you created can't you change its value(immutable)\n",
        "# it is like list with immutality\n",
        "print(t)\n",
        "print(t[0])"
      ],
      "metadata": {
        "colab": {
          "base_uri": "https://localhost:8080/"
        },
        "id": "Xn8d3_nag4km",
        "outputId": "add9b836-ca5e-458a-bab2-33abe3ef46a6"
      },
      "execution_count": null,
      "outputs": [
        {
          "output_type": "stream",
          "name": "stdout",
          "text": [
            "(1, 2, 3)\n",
            "1\n"
          ]
        }
      ]
    },
    {
      "cell_type": "code",
      "source": [
        "# set contains only unique values\n",
        "s={1,1,3,2,4,1,2,3}\n",
        "print(s)"
      ],
      "metadata": {
        "colab": {
          "base_uri": "https://localhost:8080/"
        },
        "id": "O-bHI2HlikZo",
        "outputId": "519ea068-9f15-489a-862a-aca96d18d9b7"
      },
      "execution_count": null,
      "outputs": [
        {
          "output_type": "stream",
          "name": "stdout",
          "text": [
            "{1, 2, 3, 4}\n"
          ]
        }
      ]
    },
    {
      "cell_type": "code",
      "source": [
        "#operator\n",
        "print(1!=2)\n",
        "print(1 == 1)\n",
        "print( (1 == 2) and ('a' == 'a') ) # more readable using and like it\n",
        "print( 1 ==1 and 'a' =='a' and 'c'=='c')  # we can use and operator like it also\n",
        "print( (1 == 2) or ('a' == 'a') ) # similarly for or"
      ],
      "metadata": {
        "colab": {
          "base_uri": "https://localhost:8080/"
        },
        "id": "L_lqHeELAwDC",
        "outputId": "3a4460ad-5397-4e8f-8584-4563d55ac6aa"
      },
      "execution_count": null,
      "outputs": [
        {
          "output_type": "stream",
          "name": "stdout",
          "text": [
            "True\n",
            "True\n",
            "False\n",
            "True\n",
            "True\n"
          ]
        }
      ]
    },
    {
      "cell_type": "code",
      "source": [
        "# conditional operation\n",
        "if 1==1:\n",
        "  print('yra!')\n",
        "if(1==2):\n",
        "  print(\"yes\")\n",
        "elif 1==4:\n",
        "    print(\"2sond\")\n",
        "else:\n",
        "  print(\"no\")"
      ],
      "metadata": {
        "colab": {
          "base_uri": "https://localhost:8080/"
        },
        "id": "zlgGtvZODUOc",
        "outputId": "79341605-1b7e-4056-9cbf-3de9ea6bbb8f"
      },
      "execution_count": null,
      "outputs": [
        {
          "output_type": "stream",
          "name": "stdout",
          "text": [
            "yra!\n",
            "no\n"
          ]
        }
      ]
    },
    {
      "cell_type": "code",
      "source": [
        "# for loop\n",
        "seq=[1,2,3,4,5]\n",
        "for x in seq :\n",
        "  print(x*x)"
      ],
      "metadata": {
        "colab": {
          "base_uri": "https://localhost:8080/"
        },
        "id": "e84lwk4wECXI",
        "outputId": "17d5f245-ab02-4041-8684-4088120fb8f7"
      },
      "execution_count": null,
      "outputs": [
        {
          "output_type": "stream",
          "name": "stdout",
          "text": [
            "1\n",
            "4\n",
            "9\n",
            "16\n",
            "25\n"
          ]
        }
      ]
    },
    {
      "cell_type": "code",
      "source": [
        "# while loop\n",
        "i=1\n",
        "while i<5 :\n",
        "  print(\"i is {}\".format(i))\n",
        "  i=i+1;"
      ],
      "metadata": {
        "colab": {
          "base_uri": "https://localhost:8080/"
        },
        "id": "1_bw_aHqETo7",
        "outputId": "a7dfbdc7-bd91-48ea-c8cb-e3d0dfcb63c7"
      },
      "execution_count": null,
      "outputs": [
        {
          "output_type": "stream",
          "name": "stdout",
          "text": [
            "i is 1\n",
            "i is 2\n",
            "i is 3\n",
            "i is 4\n"
          ]
        }
      ]
    },
    {
      "cell_type": "code",
      "source": [
        "# range\n",
        "# range(stop) ->range object\n",
        "print(range(5))   #output --> range(0,5)\n",
        "print(list(range(5))) # it will exclude the stop number\n",
        "#range(start,stop)\n",
        "  # 2 will decide the step \n",
        "for y in range(5,34,7):\n",
        "  print(y)\n",
        "print(list(range(0,10,2)))\n",
        "for t in range(55,34,-7):\n",
        "  print(t)\n"
      ],
      "metadata": {
        "colab": {
          "base_uri": "https://localhost:8080/"
        },
        "id": "vI4R-B_YExM-",
        "outputId": "213254a5-24a3-4bd7-9cf0-09734b92751f"
      },
      "execution_count": null,
      "outputs": [
        {
          "output_type": "stream",
          "name": "stdout",
          "text": [
            "range(0, 5)\n",
            "[0, 1, 2, 3, 4]\n",
            "5\n",
            "12\n",
            "19\n",
            "26\n",
            "33\n",
            "[0, 2, 4, 6, 8]\n",
            "55\n",
            "48\n",
            "41\n"
          ]
        }
      ]
    },
    {
      "cell_type": "code",
      "source": [
        "x = [1,2,3,4,5]\n",
        "out = []\n",
        "for num in x :\n",
        "  out.append(num**2)\n",
        "print(out)\n",
        "# for loop apprehensive of the code written above\n",
        "list = [ y**2 for y in x]\n",
        "print(list)"
      ],
      "metadata": {
        "colab": {
          "base_uri": "https://localhost:8080/"
        },
        "id": "4XUSPa6zJKGS",
        "outputId": "2b88308c-0216-4899-a572-8b4e219a70e0"
      },
      "execution_count": null,
      "outputs": [
        {
          "output_type": "stream",
          "name": "stdout",
          "text": [
            "[1, 4, 9, 16, 25]\n",
            "[1, 4, 9, 16, 25]\n"
          ]
        }
      ]
    },
    {
      "cell_type": "code",
      "source": [
        "# define fn in pyton\n",
        "def my_fun(): # we don't need to define return type\n",
        "  print(\"fn with no argument\")\n",
        "my_fun()\n",
        "def fn(name):\n",
        "  print(\"'with on argument'\", name );\n",
        "fn(\"prakash\")\n",
        "def square(x):\n",
        "  return x**2\n",
        "result = square(5)\n",
        "print(result,type(result))\n",
        "# lambda expression of a fn ex the above sqaure fn but we can call it only once.\n",
        "lambda var : var**3\n",
        "\n"
      ],
      "metadata": {
        "colab": {
          "base_uri": "https://localhost:8080/"
        },
        "id": "H4A-A_Ho3FkT",
        "outputId": "807c5060-c950-4bb2-c9c6-14822c6285fb"
      },
      "execution_count": null,
      "outputs": [
        {
          "output_type": "stream",
          "name": "stdout",
          "text": [
            "fn with no argument\n",
            "'with on argument' prakash\n",
            "25 <class 'int'>\n"
          ]
        },
        {
          "output_type": "execute_result",
          "data": {
            "text/plain": [
              "<function __main__.<lambda>(var)>"
            ]
          },
          "metadata": {},
          "execution_count": 18
        }
      ]
    },
    {
      "cell_type": "code",
      "source": [
        "# String\n",
        "str=\"Hello My Name Is Prakash\"\n",
        "print(str)\n",
        "print(str.split()) #by default it split on whitespace\n",
        "print(str.upper())\n",
        "print(str.split(\"a\"))\n",
        "print(str.lower())\n",
        "print(str.split(\" \")[-1])"
      ],
      "metadata": {
        "colab": {
          "base_uri": "https://localhost:8080/"
        },
        "id": "WG9r0iqT7Dgl",
        "outputId": "115ee20d-42e2-4b2c-b394-a60ac14d6758"
      },
      "execution_count": null,
      "outputs": [
        {
          "output_type": "stream",
          "name": "stdout",
          "text": [
            "Hello My Name Is Prakash\n",
            "['Hello', 'My', 'Name', 'Is', 'Prakash']\n",
            "HELLO MY NAME IS PRAKASH\n",
            "['Hello My N', 'me Is Pr', 'k', 'sh']\n",
            "hello my name is prakash\n",
            "Prakash\n"
          ]
        }
      ]
    },
    {
      "cell_type": "code",
      "source": [
        "mylist = [1,2,3,4]\n",
        "print(mylist)\n",
        "print(mylist.pop())   #pop remove the last element from the list\n",
        "print(mylist.pop(0))    #we can pass index of removing element\n",
        "print('x' in mylist)    # boolean operator in\n",
        "i=2\n",
        "print(2 in mylist,i in mylist)\n",
        "\n"
      ],
      "metadata": {
        "colab": {
          "base_uri": "https://localhost:8080/"
        },
        "id": "pUHpSH8UFiTx",
        "outputId": "0555eb51-a2c8-4c49-d36e-9551584afffa"
      },
      "execution_count": 6,
      "outputs": [
        {
          "output_type": "stream",
          "name": "stdout",
          "text": [
            "[1, 2, 3, 4]\n",
            "4\n",
            "1\n",
            "False\n",
            "True True\n"
          ]
        }
      ]
    }
  ]
}

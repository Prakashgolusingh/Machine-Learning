{
  "nbformat": 4,
  "nbformat_minor": 0,
  "metadata": {
    "colab": {
      "provenance": []
    },
    "kernelspec": {
      "name": "python3",
      "display_name": "Python 3"
    },
    "language_info": {
      "name": "python"
    }
  },
  "cells": [
    {
      "cell_type": "code",
      "execution_count": null,
      "metadata": {
        "colab": {
          "base_uri": "https://localhost:8080/"
        },
        "id": "vhe_MrnYpCog",
        "outputId": "9f729906-6c17-4d3a-a0f6-247a4778b8f5"
      },
      "outputs": [
        {
          "output_type": "stream",
          "name": "stdout",
          "text": [
            "<class 'pandas.core.frame.DataFrame'>\n",
            "36.29608938547486\n",
            "<class 'pandas.core.frame.DataFrame'>\n",
            "RangeIndex: 366 entries, 0 to 365\n",
            "Data columns (total 35 columns):\n",
            " #   Column                                    Non-Null Count  Dtype  \n",
            "---  ------                                    --------------  -----  \n",
            " 0   Erythema                                  366 non-null    int64  \n",
            " 1   Scaling                                   366 non-null    int64  \n",
            " 2   Definite borders                          366 non-null    int64  \n",
            " 3   Itching                                   366 non-null    int64  \n",
            " 4   Koebner Phenomenon                        366 non-null    int64  \n",
            " 5   Polygonal papules                         366 non-null    int64  \n",
            " 6   Follicular papules                        366 non-null    int64  \n",
            " 7   Oral mucosal involvement                  366 non-null    int64  \n",
            " 8   Knee and elbow involvement                366 non-null    int64  \n",
            " 9   Scalp involvement                         366 non-null    int64  \n",
            " 10  Family history                            366 non-null    int64  \n",
            " 11  Melanin Incontinence                      366 non-null    int64  \n",
            " 12  Eosinophils in the infiltrate             366 non-null    int64  \n",
            " 13  PNL infiltrate                            366 non-null    int64  \n",
            " 14  Fibrosis of the papillary dermis          366 non-null    int64  \n",
            " 15  Exocytosis                                366 non-null    int64  \n",
            " 16  Acanthosis                                366 non-null    int64  \n",
            " 17  Hyperkeratosis                            366 non-null    int64  \n",
            " 18  Parakeratosis                             366 non-null    int64  \n",
            " 19  Clubbing of the rete ridges               366 non-null    int64  \n",
            " 20  Elongation of the rete ridges             366 non-null    int64  \n",
            " 21  Thinning of the suprapapillary epidermis  366 non-null    int64  \n",
            " 22  Spongiform pustule                        366 non-null    int64  \n",
            " 23  Munro microabcess                         366 non-null    int64  \n",
            " 24  Focal hypergranulosis                     366 non-null    int64  \n",
            " 25  Disappearance of the granular layer       366 non-null    int64  \n",
            " 26  Vacuolisation and damage of basal layer   366 non-null    int64  \n",
            " 27  Spongiosis                                366 non-null    int64  \n",
            " 28  Saw-tooth appearance of retes             366 non-null    int64  \n",
            " 29  Follicular horn plug                      366 non-null    int64  \n",
            " 30  Perifollicular parakeratosis              366 non-null    int64  \n",
            " 31  Inflammatory monoluclear inflitrate       366 non-null    int64  \n",
            " 32  Band-like infiltrate                      366 non-null    int64  \n",
            " 33  Age                                       366 non-null    float64\n",
            " 34  Class code                                366 non-null    int64  \n",
            "dtypes: float64(1), int64(34)\n",
            "memory usage: 100.2 KB\n",
            "None\n"
          ]
        }
      ],
      "source": [
        "import numpy as np\n",
        "import pandas as pd\n",
        "import matplotlib.pyplot as plt\n",
        "import seaborn as sns\n",
        "df = pd.read_csv(\"/content/drive/MyDrive/Machine learning/csv/dermatology.csv\",header=None)\n",
        "print(type(df))\n",
        "\n",
        "new_row=['Erythema','Scaling','Definite borders','Itching','Koebner Phenomenon','Polygonal papules','Follicular papules','Oral mucosal involvement','Knee and elbow involvement',\n",
        "'Scalp involvement','Family history','Melanin Incontinence','Eosinophils in the infiltrate','PNL infiltrate','Fibrosis of the papillary dermis','Exocytosis','Acanthosis',\n",
        "'Hyperkeratosis','Parakeratosis','Clubbing of the rete ridges','Elongation of the rete ridges','Thinning of the suprapapillary epidermis','Spongiform pustule','Munro microabcess',\n",
        "'Focal hypergranulosis','Disappearance of the granular layer','Vacuolisation and damage of basal layer','Spongiosis','Saw-tooth appearance of retes','Follicular horn plug',\n",
        "'Perifollicular parakeratosis','Inflammatory monoluclear inflitrate','Band-like infiltrate','Age','Class code']\n",
        "df.columns=new_row\n",
        "df=df.replace('?',np.nan)\n",
        "\n",
        "# changing the datatype of Age attribute as it in string\n",
        "df['Age']=df['Age'].astype('float64')\n",
        "df=df.fillna(df.mean())\n",
        "print(df['Age'].mean())\n",
        "print(df.info())"
      ]
    },
    {
      "cell_type": "code",
      "source": [
        "from pandas.core.arrays import categorical\n",
        "#dividing the data into training and testing\n",
        "print(df.shape)\n",
        "n=df.shape[0]\n",
        "print(n)\n",
        "# our training data\n",
        "train_df=df.sample(int(0.7*n))\n",
        "# our testing data\n",
        "test_df=df.drop(train_df.index)\n",
        "print(train_df.shape)\n",
        "print(test_df.shape)"
      ],
      "metadata": {
        "colab": {
          "base_uri": "https://localhost:8080/"
        },
        "id": "MBTVOaGNwg0t",
        "outputId": "757401fb-2f42-431c-e9d9-b07b503dca57"
      },
      "execution_count": null,
      "outputs": [
        {
          "output_type": "stream",
          "name": "stdout",
          "text": [
            "(366, 35)\n",
            "366\n",
            "(256, 35)\n",
            "(110, 35)\n"
          ]
        }
      ]
    },
    {
      "cell_type": "code",
      "source": [
        "class_values = train_df['Class code'].unique()\n",
        "class_values.sort()\n",
        "priori = {}\n",
        "for i in class_values:\n",
        "  priori[i]=train_df[train_df['Class code']==i].shape[0]/train_df.shape[0]\n",
        "print(priori) "
      ],
      "metadata": {
        "colab": {
          "base_uri": "https://localhost:8080/"
        },
        "id": "M11JJ5zlQgLX",
        "outputId": "c3dacfeb-8b1b-4734-e58b-9a6dc09c485f"
      },
      "execution_count": null,
      "outputs": [
        {
          "output_type": "stream",
          "name": "stdout",
          "text": [
            "{1: 0.31640625, 2: 0.171875, 3: 0.1875, 4: 0.1328125, 5: 0.13671875, 6: 0.0546875}\n"
          ]
        }
      ]
    },
    {
      "cell_type": "code",
      "source": [
        "attribute = train_df.columns[:-2]\n",
        "likelihood ={}\n",
        "for i in attribute :\n",
        "  values=train_df[i].unique()\n",
        "  values.sort()\n",
        "  att_values=['Class code']+ list(values)\n",
        "  att_df=pd.DataFrame(columns=att_values)\n",
        "  for j in class_values:\n",
        "    class_d = {}\n",
        "    class_d['Class code'] = j\n",
        "    for k in values:\n",
        "      num = train_df[(train_df['Class code']==j) & (train_df[i]==k)].shape[0]\n",
        "      den = train_df[train_df['Class code']==j].shape[0]\n",
        "      class_d[k] = num/den\n",
        "    att_df = att_df.append(class_d, ignore_index=True)\n",
        "  likelihood[i] = att_df\n",
        "print(likelihood['Erythema'])\n"
      ],
      "metadata": {
        "colab": {
          "base_uri": "https://localhost:8080/"
        },
        "id": "ocD7byGKTsDV",
        "outputId": "e7fe725e-04e5-4765-cae4-b36b8dc8bcc5"
      },
      "execution_count": null,
      "outputs": [
        {
          "output_type": "stream",
          "name": "stdout",
          "text": [
            "   Class code         0         1         2         3\n",
            "0         1.0  0.012346  0.061728  0.592593  0.333333\n",
            "1         2.0  0.000000  0.090909  0.568182  0.340909\n",
            "2         3.0  0.020833  0.104167  0.687500  0.187500\n",
            "3         4.0  0.000000  0.235294  0.676471  0.088235\n",
            "4         5.0  0.057143  0.485714  0.371429  0.085714\n",
            "5         6.0  0.000000  0.142857  0.785714  0.071429\n"
          ]
        }
      ]
    },
    {
      "cell_type": "code",
      "source": [
        "row = test_df.iloc[34:35].to_dict(orient = 'records')[0]\n",
        "print(row)"
      ],
      "metadata": {
        "colab": {
          "base_uri": "https://localhost:8080/"
        },
        "id": "qbWV5zBUGX6p",
        "outputId": "1462108d-d405-41b5-baff-73efd77eee54"
      },
      "execution_count": null,
      "outputs": [
        {
          "output_type": "stream",
          "name": "stdout",
          "text": [
            "{'Erythema': 1, 'Scaling': 1, 'Definite borders': 2, 'Itching': 2, 'Koebner Phenomenon': 2, 'Polygonal papules': 0, 'Follicular papules': 2, 'Oral mucosal involvement': 0, 'Knee and elbow involvement': 1, 'Scalp involvement': 2, 'Family history': 0, 'Melanin Incontinence': 0, 'Eosinophils in the infiltrate': 0, 'PNL infiltrate': 1, 'Fibrosis of the papillary dermis': 0, 'Exocytosis': 0, 'Acanthosis': 2, 'Hyperkeratosis': 1, 'Parakeratosis': 2, 'Clubbing of the rete ridges': 3, 'Elongation of the rete ridges': 3, 'Thinning of the suprapapillary epidermis': 3, 'Spongiform pustule': 2, 'Munro microabcess': 2, 'Focal hypergranulosis': 0, 'Disappearance of the granular layer': 0, 'Vacuolisation and damage of basal layer': 0, 'Spongiosis': 0, 'Saw-tooth appearance of retes': 0, 'Follicular horn plug': 0, 'Perifollicular parakeratosis': 0, 'Inflammatory monoluclear inflitrate': 2, 'Band-like infiltrate': 0, 'Age': 55.0, 'Class code': 1}\n"
          ]
        }
      ]
    },
    {
      "cell_type": "code",
      "source": [
        "# Testing our modle\n",
        "count =0\n",
        "new_c = []\n",
        "for i in range(test_df.shape[0]):\n",
        "  test_row = test_df.iloc[i:i+1,:].to_dict(orient = 'records')[0]\n",
        "  code = 1\n",
        "  max_prob = 0\n",
        "  for j in class_values:\n",
        "    prob = priori[j]\n",
        "    for k in attribute:\n",
        "      att_df = likelihood[k]\n",
        "      att_df_row = att_df.loc[att_df['Class code']==j]\n",
        "      prob = prob*float(att_df_row[test_row[k]])\n",
        "    if prob >max_prob:\n",
        "      max_prob = prob\n",
        "      code = j\n",
        "  new_c.append(code)\n",
        "  if test_row['Class code']==code:\n",
        "    count = count +1\n",
        "test_df['Predicted Class'] = new_c\n",
        "print(test_df)"
      ],
      "metadata": {
        "colab": {
          "base_uri": "https://localhost:8080/"
        },
        "id": "lTUrhHQNGS-Z",
        "outputId": "09929990-2664-45f4-8364-60e2b24fc464"
      },
      "execution_count": null,
      "outputs": [
        {
          "output_type": "stream",
          "name": "stdout",
          "text": [
            "     Erythema  Scaling  Definite borders  Itching  Koebner Phenomenon  \\\n",
            "6           2        1                 0        2                   0   \n",
            "21          3        2                 2        0                   0   \n",
            "23          2        2                 2        3                   2   \n",
            "24          2        0                 0        3                   0   \n",
            "27          1        2                 2        3                   0   \n",
            "..        ...      ...               ...      ...                 ...   \n",
            "354         2        0                 1        2                   0   \n",
            "358         2        3                 2        1                   0   \n",
            "361         2        1                 1        0                   1   \n",
            "363         3        2                 2        2                   3   \n",
            "365         3        2                 2        0                   0   \n",
            "\n",
            "     Polygonal papules  Follicular papules  Oral mucosal involvement  \\\n",
            "6                    0                   0                         0   \n",
            "21                   0                   0                         0   \n",
            "23                   2                   0                         2   \n",
            "24                   0                   0                         0   \n",
            "27                   0                   0                         0   \n",
            "..                 ...                 ...                       ...   \n",
            "354                  0                   0                         0   \n",
            "358                  0                   0                         0   \n",
            "361                  0                   0                         0   \n",
            "363                  2                   0                         2   \n",
            "365                  0                   0                         0   \n",
            "\n",
            "     Knee and elbow involvement  Scalp involvement  ...  \\\n",
            "6                             0                  0  ...   \n",
            "21                            0                  0  ...   \n",
            "23                            0                  0  ...   \n",
            "24                            0                  0  ...   \n",
            "27                            0                  0  ...   \n",
            "..                          ...                ...  ...   \n",
            "354                           0                  0  ...   \n",
            "358                           2                  2  ...   \n",
            "361                           0                  0  ...   \n",
            "363                           0                  0  ...   \n",
            "365                           3                  3  ...   \n",
            "\n",
            "     Vacuolisation and damage of basal layer  Spongiosis  \\\n",
            "6                                          0           0   \n",
            "21                                         0           3   \n",
            "23                                         3           0   \n",
            "24                                         0           0   \n",
            "27                                         0           1   \n",
            "..                                       ...         ...   \n",
            "354                                        0           0   \n",
            "358                                        0           0   \n",
            "361                                        0           1   \n",
            "363                                        3           0   \n",
            "365                                        0           0   \n",
            "\n",
            "     Saw-tooth appearance of retes  Follicular horn plug  \\\n",
            "6                                0                     0   \n",
            "21                               0                     0   \n",
            "23                               2                     0   \n",
            "24                               0                     0   \n",
            "27                               0                     0   \n",
            "..                             ...                   ...   \n",
            "354                              0                     0   \n",
            "358                              0                     0   \n",
            "361                              0                     0   \n",
            "363                              3                     0   \n",
            "365                              0                     0   \n",
            "\n",
            "     Perifollicular parakeratosis  Inflammatory monoluclear inflitrate  \\\n",
            "6                               0                                    2   \n",
            "21                              0                                    2   \n",
            "23                              0                                    2   \n",
            "24                              0                                    2   \n",
            "27                              0                                    3   \n",
            "..                            ...                                  ...   \n",
            "354                             0                                    2   \n",
            "358                             0                                    3   \n",
            "361                             0                                    2   \n",
            "363                             0                                    2   \n",
            "365                             0                                    3   \n",
            "\n",
            "     Band-like infiltrate   Age  Class code  Predicted Class  \n",
            "6                       0  18.0           5                5  \n",
            "21                      0  51.0           2                1  \n",
            "23                      3  44.0           3                1  \n",
            "24                      0  22.0           5                5  \n",
            "27                      0  17.0           5                5  \n",
            "..                    ...   ...         ...              ...  \n",
            "354                     0  56.0           5                5  \n",
            "358                     0  24.0           1                1  \n",
            "361                     0  25.0           4                4  \n",
            "363                     3  28.0           3                1  \n",
            "365                     0  35.0           1                1  \n",
            "\n",
            "[110 rows x 36 columns]\n"
          ]
        }
      ]
    },
    {
      "cell_type": "code",
      "source": [
        "print(count)\n",
        "print(len(test_df))\n",
        "print(count/test_df.shape[0])"
      ],
      "metadata": {
        "colab": {
          "base_uri": "https://localhost:8080/"
        },
        "id": "jPH9EdcNhYhj",
        "outputId": "d83d4405-7790-438c-e3aa-4952a15f8a74"
      },
      "execution_count": null,
      "outputs": [
        {
          "output_type": "stream",
          "name": "stdout",
          "text": [
            "96\n",
            "110\n",
            "0.8727272727272727\n"
          ]
        }
      ]
    },
    {
      "cell_type": "code",
      "source": [
        "value = test_df[test_df['Class code'] != test_df['Predicted Class']].shape[0]\n",
        "print(value)\n",
        "error = value/len(test_df)\n",
        "print(\"Accuracy : \",1-error)"
      ],
      "metadata": {
        "colab": {
          "base_uri": "https://localhost:8080/"
        },
        "id": "dyfAc4V3fCKI",
        "outputId": "28267f50-91d3-4524-b4b7-feb91df014fa"
      },
      "execution_count": null,
      "outputs": [
        {
          "output_type": "stream",
          "name": "stdout",
          "text": [
            "14\n",
            "Accuracy :  0.8727272727272728\n"
          ]
        }
      ]
    }
  ]
}
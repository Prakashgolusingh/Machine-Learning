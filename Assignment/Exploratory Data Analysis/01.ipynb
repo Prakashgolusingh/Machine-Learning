{
  "nbformat": 4,
  "nbformat_minor": 0,
  "metadata": {
    "colab": {
      "provenance": []
    },
    "kernelspec": {
      "name": "python3",
      "display_name": "Python 3"
    },
    "language_info": {
      "name": "python"
    }
  },
  "cells": [
    {
      "cell_type": "markdown",
      "source": [
        "importing python packages"
      ],
      "metadata": {
        "id": "kKxFWlg1uhxS"
      }
    },
    {
      "cell_type": "code",
      "execution_count": null,
      "metadata": {
        "id": "j_qJjo4lteC4"
      },
      "outputs": [],
      "source": [
        "import numpy as np\n",
        "import pandas as pd\n",
        "import matplotlib.pyplot as plt\n",
        "import seaborn as sns\n",
        "df = pd.read_csv(\"/content/drive/MyDrive/Machine learning/csv/dermatology.csv\",header=None)"
      ]
    },
    {
      "cell_type": "code",
      "source": [
        "\n",
        "'''\n",
        "# Insert row to the dataframe using DataFrame.append()\n",
        "df = pd.DataFrame(technologies)\n",
        "new_row = {'Courses':'Hyperion', 'Fee':24000, 'Duration':'55days', 'Discount':1800}\n",
        "df2 = df.append(new_row, ignore_index=True)\n",
        "print(df2)\n",
        "'''\n",
        "# ===================Q1=========================\n",
        "\n",
        "new_row=['Erythema','Scaling','Definite borders','Itching','Koebner Phenomenon','Polygonal papules','Follicular papules','Oral mucosal involvement','Knee and elbow involvement',\n",
        "'Scalp involvement','Family history','Melanin Incontinence','Eosinophils in the infiltrate','PNL infiltrate','Fibrosis of the papillary dermis','Exocytosis','Acanthosis',\n",
        "'Hyperkeratosis','Parakeratosis','Clubbing of the rete ridges','Elongation of the rete ridges','Thinning of the suprapapillary epidermis','Spongiform pustule','Munro microabcess',\n",
        "'Focal hypergranulosis','Disappearance of the granular layer','Vacuolisation and damage of basal layer','Spongiosis','Saw-tooth appearance of retes','Follicular horn plug',\n",
        "'Perifollicular parakeratosis','Inflammatory monoluclear inflitrate','Band-like infiltrate','Age','Class code']\n",
        "df.columns=new_row"
      ],
      "metadata": {
        "id": "DqJh2ITtubzW"
      },
      "execution_count": null,
      "outputs": []
    },
    {
      "cell_type": "code",
      "source": [
        "#=====================Q3=============================\n",
        "print(df.info())\n",
        "df=df.replace('?',np.nan)\n",
        "df['Age']=df['Age'].astype('float64')\n",
        "print(df.info())\n",
        "# changing the datatype of Age attribute as it in string\n",
        "\n",
        "df=df.fillna(df.mean())\n",
        "print(df['Age'].mean())"
      ],
      "metadata": {
        "id": "rVHimqSrsMXN",
        "colab": {
          "base_uri": "https://localhost:8080/"
        },
        "outputId": "1a309089-759f-4f8a-c2fe-585472dee685"
      },
      "execution_count": null,
      "outputs": [
        {
          "output_type": "stream",
          "name": "stdout",
          "text": [
            "<class 'pandas.core.frame.DataFrame'>\n",
            "RangeIndex: 366 entries, 0 to 365\n",
            "Data columns (total 35 columns):\n",
            " #   Column                                    Non-Null Count  Dtype \n",
            "---  ------                                    --------------  ----- \n",
            " 0   Erythema                                  366 non-null    int64 \n",
            " 1   Scaling                                   366 non-null    int64 \n",
            " 2   Definite borders                          366 non-null    int64 \n",
            " 3   Itching                                   366 non-null    int64 \n",
            " 4   Koebner Phenomenon                        366 non-null    int64 \n",
            " 5   Polygonal papules                         366 non-null    int64 \n",
            " 6   Follicular papules                        366 non-null    int64 \n",
            " 7   Oral mucosal involvement                  366 non-null    int64 \n",
            " 8   Knee and elbow involvement                366 non-null    int64 \n",
            " 9   Scalp involvement                         366 non-null    int64 \n",
            " 10  Family history                            366 non-null    int64 \n",
            " 11  Melanin Incontinence                      366 non-null    int64 \n",
            " 12  Eosinophils in the infiltrate             366 non-null    int64 \n",
            " 13  PNL infiltrate                            366 non-null    int64 \n",
            " 14  Fibrosis of the papillary dermis          366 non-null    int64 \n",
            " 15  Exocytosis                                366 non-null    int64 \n",
            " 16  Acanthosis                                366 non-null    int64 \n",
            " 17  Hyperkeratosis                            366 non-null    int64 \n",
            " 18  Parakeratosis                             366 non-null    int64 \n",
            " 19  Clubbing of the rete ridges               366 non-null    int64 \n",
            " 20  Elongation of the rete ridges             366 non-null    int64 \n",
            " 21  Thinning of the suprapapillary epidermis  366 non-null    int64 \n",
            " 22  Spongiform pustule                        366 non-null    int64 \n",
            " 23  Munro microabcess                         366 non-null    int64 \n",
            " 24  Focal hypergranulosis                     366 non-null    int64 \n",
            " 25  Disappearance of the granular layer       366 non-null    int64 \n",
            " 26  Vacuolisation and damage of basal layer   366 non-null    int64 \n",
            " 27  Spongiosis                                366 non-null    int64 \n",
            " 28  Saw-tooth appearance of retes             366 non-null    int64 \n",
            " 29  Follicular horn plug                      366 non-null    int64 \n",
            " 30  Perifollicular parakeratosis              366 non-null    int64 \n",
            " 31  Inflammatory monoluclear inflitrate       366 non-null    int64 \n",
            " 32  Band-like infiltrate                      366 non-null    int64 \n",
            " 33  Age                                       366 non-null    object\n",
            " 34  Class code                                366 non-null    int64 \n",
            "dtypes: int64(34), object(1)\n",
            "memory usage: 100.2+ KB\n",
            "None\n",
            "<class 'pandas.core.frame.DataFrame'>\n",
            "RangeIndex: 366 entries, 0 to 365\n",
            "Data columns (total 35 columns):\n",
            " #   Column                                    Non-Null Count  Dtype  \n",
            "---  ------                                    --------------  -----  \n",
            " 0   Erythema                                  366 non-null    int64  \n",
            " 1   Scaling                                   366 non-null    int64  \n",
            " 2   Definite borders                          366 non-null    int64  \n",
            " 3   Itching                                   366 non-null    int64  \n",
            " 4   Koebner Phenomenon                        366 non-null    int64  \n",
            " 5   Polygonal papules                         366 non-null    int64  \n",
            " 6   Follicular papules                        366 non-null    int64  \n",
            " 7   Oral mucosal involvement                  366 non-null    int64  \n",
            " 8   Knee and elbow involvement                366 non-null    int64  \n",
            " 9   Scalp involvement                         366 non-null    int64  \n",
            " 10  Family history                            366 non-null    int64  \n",
            " 11  Melanin Incontinence                      366 non-null    int64  \n",
            " 12  Eosinophils in the infiltrate             366 non-null    int64  \n",
            " 13  PNL infiltrate                            366 non-null    int64  \n",
            " 14  Fibrosis of the papillary dermis          366 non-null    int64  \n",
            " 15  Exocytosis                                366 non-null    int64  \n",
            " 16  Acanthosis                                366 non-null    int64  \n",
            " 17  Hyperkeratosis                            366 non-null    int64  \n",
            " 18  Parakeratosis                             366 non-null    int64  \n",
            " 19  Clubbing of the rete ridges               366 non-null    int64  \n",
            " 20  Elongation of the rete ridges             366 non-null    int64  \n",
            " 21  Thinning of the suprapapillary epidermis  366 non-null    int64  \n",
            " 22  Spongiform pustule                        366 non-null    int64  \n",
            " 23  Munro microabcess                         366 non-null    int64  \n",
            " 24  Focal hypergranulosis                     366 non-null    int64  \n",
            " 25  Disappearance of the granular layer       366 non-null    int64  \n",
            " 26  Vacuolisation and damage of basal layer   366 non-null    int64  \n",
            " 27  Spongiosis                                366 non-null    int64  \n",
            " 28  Saw-tooth appearance of retes             366 non-null    int64  \n",
            " 29  Follicular horn plug                      366 non-null    int64  \n",
            " 30  Perifollicular parakeratosis              366 non-null    int64  \n",
            " 31  Inflammatory monoluclear inflitrate       366 non-null    int64  \n",
            " 32  Band-like infiltrate                      366 non-null    int64  \n",
            " 33  Age                                       358 non-null    float64\n",
            " 34  Class code                                366 non-null    int64  \n",
            "dtypes: float64(1), int64(34)\n",
            "memory usage: 100.2 KB\n",
            "None\n",
            "36.29608938547486\n"
          ]
        }
      ]
    },
    {
      "cell_type": "code",
      "source": [
        "#x=df['Class code']\n",
        "#sns.histplot(data = df['Age'] , hue=[])\n",
        "#================Q2===================\n",
        "\n",
        "#seaborn.histplot(data, x, y, hue, stat, bins, binwidth, discrete, kde, log_scale)\n",
        "c1=list(df[df['Class code']==1]['Age'])\n",
        "c2=list(df[df['Class code']==2]['Age'])\n",
        "c3=list(df[df['Class code']==3]['Age'])\n",
        "plt.hist(c1,label='1',alpha=0.5)\n",
        "plt.hist(c2,label='2',alpha=0.5)\n",
        "plt.hist(c3,label='3',alpha=0.6)\n",
        "plt.legend()\n",
        "plt.xlabel('Age')\n",
        "plt.ylabel('Class Code')\n",
        "plt.show()\n"
      ],
      "metadata": {
        "colab": {
          "base_uri": "https://localhost:8080/"
        },
        "id": "3tA5uDdfCYQ4",
        "outputId": "8ce7bded-b30b-42f0-8430-0e9cae29eb53"
      },
      "execution_count": null,
      "outputs": [
        {
          "output_type": "display_data",
          "data": {
            "text/plain": [
              "<Figure size 432x288 with 1 Axes>"
            ],
            "image/png": "[encoded data removed]"
          },
          "metadata": {
            "needs_background": "light"
          }
        }
      ]
    },
    {
      "cell_type": "code",
      "source": [],
      "metadata": {
        "id": "SRNnpE8qAywM"
      },
      "execution_count": null,
      "outputs": []
    },
    {
      "cell_type": "code",
      "source": [
        "#==========================Q4==========================\n",
        "\n",
        "df[\"Normalised_Age\"] = (df['Age']-df['Age'].min())/(df['Age'].max()-df['Age'].min())\n",
        "print(df['Normalised_Age'].mean())"
      ],
      "metadata": {
        "colab": {
          "base_uri": "https://localhost:8080/"
        },
        "id": "jh5Sf4l8FmTQ",
        "outputId": "e589d105-3d27-4db7-82db-1d802724fff2"
      },
      "execution_count": null,
      "outputs": [
        {
          "output_type": "stream",
          "name": "stdout",
          "text": [
            "0.48394785847299815\n"
          ]
        }
      ]
    },
    {
      "cell_type": "code",
      "source": [
        "#================================Q5==================================\n",
        "print(df.iloc[:,0:4].cov())"
      ],
      "metadata": {
        "colab": {
          "base_uri": "https://localhost:8080/"
        },
        "id": "3_XdN5_WGrRS",
        "outputId": "784c2df1-fff9-413c-9089-bc6df00cd005"
      },
      "execution_count": null,
      "outputs": [
        {
          "output_type": "stream",
          "name": "stdout",
          "text": [
            "                  Erythema   Scaling  Definite borders   Itching\n",
            "Erythema          0.441897  0.203077          0.156905 -0.036036\n",
            "Scaling           0.203077  0.492140          0.227914 -0.067236\n",
            "Definite borders  0.156905  0.227914          0.823602 -0.064631\n",
            "Itching          -0.036036 -0.067236         -0.064631  1.295726\n"
          ]
        }
      ]
    },
    {
      "cell_type": "code",
      "source": [
        "#================================Q6==================================\n",
        "plt.boxplot(df['Age'])\n",
        "plt.show()"
      ],
      "metadata": {
        "colab": {
          "base_uri": "https://localhost:8080/"
        },
        "id": "dGb1m1FtHxH0",
        "outputId": "5beed0eb-5c8f-4555-f7ef-41ef1d4744c0"
      },
      "execution_count": null,
      "outputs": [
        {
          "output_type": "display_data",
          "data": {
            "text/plain": [
              "<Figure size 432x288 with 1 Axes>"
            ],
            "image/png": "[encoded data removed]"
          },
          "metadata": {
            "needs_background": "light"
          }
        }
      ]
    }
  ]
}